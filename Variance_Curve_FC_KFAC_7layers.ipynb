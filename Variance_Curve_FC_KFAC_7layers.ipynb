{
 "cells": [
  {
   "cell_type": "code",
   "execution_count": 1,
   "metadata": {},
   "outputs": [],
   "source": [
    "import numpy as np\n",
    "import matplotlib.pyplot as plt\n",
    "import pickle as pickle\n",
    "\n",
    "%matplotlib inline"
   ]
  },
  {
   "cell_type": "markdown",
   "metadata": {},
   "source": [
    "# Paper figures"
   ]
  },
  {
   "cell_type": "code",
   "execution_count": 2,
   "metadata": {},
   "outputs": [
    {
     "ename": "ValueError",
     "evalue": "unsupported pickle protocol: 3",
     "output_type": "error",
     "traceback": [
      "\u001b[0;31m---------------------------------------------------------------------------\u001b[0m",
      "\u001b[0;31mValueError\u001b[0m                                Traceback (most recent call last)",
      "\u001b[0;32m<ipython-input-2-b47c25be56c1>\u001b[0m in \u001b[0;36m<module>\u001b[0;34m()\u001b[0m\n\u001b[1;32m      2\u001b[0m \u001b[0;34m\u001b[0m\u001b[0m\n\u001b[1;32m      3\u001b[0m \u001b[0;32mwith\u001b[0m \u001b[0mopen\u001b[0m\u001b[0;34m(\u001b[0m\u001b[0;34m'grad_checks_FC_KFAC/batch128/ptb_var_flip.pkl'\u001b[0m\u001b[0;34m,\u001b[0m\u001b[0;34m'rb'\u001b[0m\u001b[0;34m)\u001b[0m \u001b[0;32mas\u001b[0m \u001b[0mf\u001b[0m\u001b[0;34m:\u001b[0m\u001b[0;34m\u001b[0m\u001b[0m\n\u001b[0;32m----> 4\u001b[0;31m     \u001b[0mFg_CI\u001b[0m \u001b[0;34m=\u001b[0m \u001b[0mpickle\u001b[0m\u001b[0;34m.\u001b[0m\u001b[0mload\u001b[0m\u001b[0;34m(\u001b[0m\u001b[0mf\u001b[0m\u001b[0;34m)\u001b[0m\u001b[0;34m\u001b[0m\u001b[0m\n\u001b[0m\u001b[1;32m      5\u001b[0m \u001b[0;32mwith\u001b[0m \u001b[0mopen\u001b[0m\u001b[0;34m(\u001b[0m\u001b[0;34m'grad_checks_FC_KFAC/batch128/ptb_var_pert.pkl'\u001b[0m\u001b[0;34m,\u001b[0m\u001b[0;34m'rb'\u001b[0m\u001b[0;34m)\u001b[0m \u001b[0;32mas\u001b[0m \u001b[0mf\u001b[0m\u001b[0;34m:\u001b[0m\u001b[0;34m\u001b[0m\u001b[0m\n\u001b[1;32m      6\u001b[0m     \u001b[0mNFg_CI\u001b[0m \u001b[0;34m=\u001b[0m \u001b[0mpickle\u001b[0m\u001b[0;34m.\u001b[0m\u001b[0mload\u001b[0m\u001b[0;34m(\u001b[0m\u001b[0mf\u001b[0m\u001b[0;34m)\u001b[0m\u001b[0;34m\u001b[0m\u001b[0m\n",
      "\u001b[0;32m/Users/m.zhang1/anaconda2/lib/python2.7/pickle.pyc\u001b[0m in \u001b[0;36mload\u001b[0;34m(file)\u001b[0m\n\u001b[1;32m   1382\u001b[0m \u001b[0;34m\u001b[0m\u001b[0m\n\u001b[1;32m   1383\u001b[0m \u001b[0;32mdef\u001b[0m \u001b[0mload\u001b[0m\u001b[0;34m(\u001b[0m\u001b[0mfile\u001b[0m\u001b[0;34m)\u001b[0m\u001b[0;34m:\u001b[0m\u001b[0;34m\u001b[0m\u001b[0m\n\u001b[0;32m-> 1384\u001b[0;31m     \u001b[0;32mreturn\u001b[0m \u001b[0mUnpickler\u001b[0m\u001b[0;34m(\u001b[0m\u001b[0mfile\u001b[0m\u001b[0;34m)\u001b[0m\u001b[0;34m.\u001b[0m\u001b[0mload\u001b[0m\u001b[0;34m(\u001b[0m\u001b[0;34m)\u001b[0m\u001b[0;34m\u001b[0m\u001b[0m\n\u001b[0m\u001b[1;32m   1385\u001b[0m \u001b[0;34m\u001b[0m\u001b[0m\n\u001b[1;32m   1386\u001b[0m \u001b[0;32mdef\u001b[0m \u001b[0mloads\u001b[0m\u001b[0;34m(\u001b[0m\u001b[0mstr\u001b[0m\u001b[0;34m)\u001b[0m\u001b[0;34m:\u001b[0m\u001b[0;34m\u001b[0m\u001b[0m\n",
      "\u001b[0;32m/Users/m.zhang1/anaconda2/lib/python2.7/pickle.pyc\u001b[0m in \u001b[0;36mload\u001b[0;34m(self)\u001b[0m\n\u001b[1;32m    862\u001b[0m             \u001b[0;32mwhile\u001b[0m \u001b[0;36m1\u001b[0m\u001b[0;34m:\u001b[0m\u001b[0;34m\u001b[0m\u001b[0m\n\u001b[1;32m    863\u001b[0m                 \u001b[0mkey\u001b[0m \u001b[0;34m=\u001b[0m \u001b[0mread\u001b[0m\u001b[0;34m(\u001b[0m\u001b[0;36m1\u001b[0m\u001b[0;34m)\u001b[0m\u001b[0;34m\u001b[0m\u001b[0m\n\u001b[0;32m--> 864\u001b[0;31m                 \u001b[0mdispatch\u001b[0m\u001b[0;34m[\u001b[0m\u001b[0mkey\u001b[0m\u001b[0;34m]\u001b[0m\u001b[0;34m(\u001b[0m\u001b[0mself\u001b[0m\u001b[0;34m)\u001b[0m\u001b[0;34m\u001b[0m\u001b[0m\n\u001b[0m\u001b[1;32m    865\u001b[0m         \u001b[0;32mexcept\u001b[0m \u001b[0m_Stop\u001b[0m\u001b[0;34m,\u001b[0m \u001b[0mstopinst\u001b[0m\u001b[0;34m:\u001b[0m\u001b[0;34m\u001b[0m\u001b[0m\n\u001b[1;32m    866\u001b[0m             \u001b[0;32mreturn\u001b[0m \u001b[0mstopinst\u001b[0m\u001b[0;34m.\u001b[0m\u001b[0mvalue\u001b[0m\u001b[0;34m\u001b[0m\u001b[0m\n",
      "\u001b[0;32m/Users/m.zhang1/anaconda2/lib/python2.7/pickle.pyc\u001b[0m in \u001b[0;36mload_proto\u001b[0;34m(self)\u001b[0m\n\u001b[1;32m    890\u001b[0m         \u001b[0mproto\u001b[0m \u001b[0;34m=\u001b[0m \u001b[0mord\u001b[0m\u001b[0;34m(\u001b[0m\u001b[0mself\u001b[0m\u001b[0;34m.\u001b[0m\u001b[0mread\u001b[0m\u001b[0;34m(\u001b[0m\u001b[0;36m1\u001b[0m\u001b[0;34m)\u001b[0m\u001b[0;34m)\u001b[0m\u001b[0;34m\u001b[0m\u001b[0m\n\u001b[1;32m    891\u001b[0m         \u001b[0;32mif\u001b[0m \u001b[0;32mnot\u001b[0m \u001b[0;36m0\u001b[0m \u001b[0;34m<=\u001b[0m \u001b[0mproto\u001b[0m \u001b[0;34m<=\u001b[0m \u001b[0;36m2\u001b[0m\u001b[0;34m:\u001b[0m\u001b[0;34m\u001b[0m\u001b[0m\n\u001b[0;32m--> 892\u001b[0;31m             \u001b[0;32mraise\u001b[0m \u001b[0mValueError\u001b[0m\u001b[0;34m,\u001b[0m \u001b[0;34m\"unsupported pickle protocol: %d\"\u001b[0m \u001b[0;34m%\u001b[0m \u001b[0mproto\u001b[0m\u001b[0;34m\u001b[0m\u001b[0m\n\u001b[0m\u001b[1;32m    893\u001b[0m     \u001b[0mdispatch\u001b[0m\u001b[0;34m[\u001b[0m\u001b[0mPROTO\u001b[0m\u001b[0;34m]\u001b[0m \u001b[0;34m=\u001b[0m \u001b[0mload_proto\u001b[0m\u001b[0;34m\u001b[0m\u001b[0m\n\u001b[1;32m    894\u001b[0m \u001b[0;34m\u001b[0m\u001b[0m\n",
      "\u001b[0;31mValueError\u001b[0m: unsupported pickle protocol: 3"
     ]
    }
   ],
   "source": [
    "CI_list = []\n",
    "\n",
    "with open('grad_checks_FC_KFAC/batch128/ptb_var_flip.pkl','rb') as f:\n",
    "    Fg_CI = pickle.load(f)\n",
    "with open('grad_checks_FC_KFAC/batch128/ptb_var_pert.pkl','rb') as f:\n",
    "    NFg_CI = pickle.load(f)\n",
    "CI_list.append((Fg_CI,NFg_CI))\n",
    "\n",
    "with open('grad_checks_FC_KFAC/batch256/ptb_var_flip.pkl','rb') as f:\n",
    "    Fg_CI = pickle.load(f)\n",
    "with open('grad_checks_FC_KFAC/batch256/ptb_var_pert.pkl','rb') as f:\n",
    "    NFg_CI = pickle.load(f)\n",
    "CI_list.append((Fg_CI,NFg_CI))\n",
    "\n",
    "with open('grad_checks_FC_KFAC/batch512/ptb_var_flip.pkl','rb') as f:\n",
    "    Fg_CI = pickle.load(f)\n",
    "with open('grad_checks_FC_KFAC/batch512/ptb_var_pert.pkl','rb') as f:\n",
    "    NFg_CI = pickle.load(f)\n",
    "CI_list.append((Fg_CI,NFg_CI))\n",
    "\n",
    "with open('grad_checks_FC_KFAC/batch1024/ptb_var_flip.pkl','rb') as f:\n",
    "    Fg_CI = pickle.load(f)\n",
    "with open('grad_checks_FC_KFAC/batch1024/ptb_var_pert.pkl','rb') as f:\n",
    "    NFg_CI = pickle.load(f)\n",
    "CI_list.append((Fg_CI,NFg_CI))\n",
    "\n",
    "with open('grad_checks_FC_KFAC/batch2048/ptb_var_flip.pkl','rb') as f:\n",
    "    Fg_CI = pickle.load(f)\n",
    "with open('grad_checks_FC_KFAC/batch2048/ptb_var_pert.pkl','rb') as f:\n",
    "    NFg_CI = pickle.load(f)\n",
    "CI_list.append((Fg_CI,NFg_CI))\n",
    "\n",
    "with open('grad_checks_FC_KFAC/batch4096/ptb_var_flip.pkl','rb') as f:\n",
    "    Fg_CI = pickle.load(f)\n",
    "with open('grad_checks_FC_KFAC/batch4096/ptb_var_pert.pkl','rb') as f:\n",
    "    NFg_CI = pickle.load(f)\n",
    "CI_list.append((Fg_CI,NFg_CI))\n"
   ]
  },
  {
   "cell_type": "code",
   "execution_count": 6,
   "metadata": {},
   "outputs": [
    {
     "data": {
      "text/plain": [
       "[array([  2.43579739e-08,   2.84215073e-08,   2.31353333e-08,\n",
       "          2.46478140e-08,   2.69877165e-08,   2.13274138e-08,\n",
       "          2.79806497e-08,   2.17211968e-08,   2.53372466e-08,\n",
       "          2.74530527e-08]),\n",
       " array([  3.77512034e-08,   4.29482536e-08,   3.55471383e-08,\n",
       "          3.77850248e-08,   4.13492336e-08,   3.31032998e-08,\n",
       "          4.27096534e-08,   3.38651782e-08,   3.88836538e-08,\n",
       "          4.14621808e-08]),\n",
       " array([  2.56822944e-07,   2.96834840e-07,   2.42711425e-07,\n",
       "          2.59562281e-07,   2.83042993e-07,   2.26148391e-07,\n",
       "          2.94479858e-07,   2.31034802e-07,   2.67799636e-07,\n",
       "          2.87837708e-07]),\n",
       " array([  3.85928743e-08,   4.41329043e-08,   3.64746682e-08,\n",
       "          3.90640348e-08,   4.24130493e-08,   3.43850881e-08,\n",
       "          4.38460953e-08,   3.50483185e-08,   4.03779078e-08,\n",
       "          4.30047164e-08])]"
      ]
     },
     "execution_count": 6,
     "metadata": {},
     "output_type": "execute_result"
    }
   ],
   "source": []
  },
  {
   "cell_type": "code",
   "execution_count": 1,
   "metadata": {},
   "outputs": [
    {
     "data": {
      "text/plain": [
       "'mini_batch = [16,128,256,512,1024,2048,4096]\\n\\nnon_flip_mean = [[], [], [], []]\\nnon_flip_CI_low = [[], [], [], []]\\nnon_flip_CI_high = [[], [], [], []]\\n\\nflip_mean = [[], [], [], []]\\nflip_CI_low = [[], [], [], []]\\nflip_CI_high = [[], [], [], []]\\n\\nt_49 = 1.684\\nt_10 = 1.812\\n\\nfor i in range(4):  # i = 0, 1, 2, 3\\n    for (Fg_var, NFg_var) in CI_list:\\n        flip_mean[i].append(Fg_var[i].mean())\\n        flip_CI_low[i].append(Fg_var[i].mean() - np.std(Fg_var[i], ddof=1) * t_10/np.sqrt(10))  # Critical: what is t_49? and we don\\'t have 50 samples...\\n        flip_CI_high[i].append(Fg_var[i].mean() + np.std(Fg_var[i], ddof=1) * t_10/np.sqrt(10))\\n\\n        non_flip_mean[i].append(NFg_var[i].mean())\\n        non_flip_CI_low[i].append(NFg_var[i].mean() - np.std(NFg_var[i], ddof=1) * t_10/np.sqrt(10))\\n        non_flip_CI_high[i].append(NFg_var[i].mean() + np.std(NFg_var[i], ddof=1) * t_10/np.sqrt(10))\\n\\nF_errorbars = [[], [], [], []]\\nNF_errorbars = [[], [], [], []]\\n\\nfor i in range(4):\\n    F_errorbars[i] = [np.array(flip_mean[i]) - np.array(flip_CI_low[i]), np.array(flip_CI_high[i]) - np.array(flip_mean[i])]\\n    NF_errorbars[i] = [np.array(non_flip_mean[i]) - np.array(non_flip_CI_low[i]), np.array(non_flip_CI_high[i]) - np.array(non_flip_mean[i])]\\n    \\nflip_labels = [\\'Wi-Flip\\', \\'Wf-Flip\\', \\'Wo-Flip\\', \\'Wc-Flip\\']\\nnonflip_labels = [\\'Wi_NoFlip\\', \\'Wf-NoFlip\\', \\'Wo-NoFlip\\', \\'Wc-NoFlip\\']\\n\\ncolors = [\\'b\\', \\'r\\', \\'y\\', \\'g\\']\\n\\nfor i in range(4):\\n    plt.errorbar(mini_batch, flip_mean[i], yerr=F_errorbars[i], label=flip_labels[i], color=colors[i])\\n    plt.errorbar(mini_batch, non_flip_mean[i], yerr=NF_errorbars[i], label=nonflip_labels[i], color=colors[i], linestyle=\\':\\')\\n\\nplt.xscale(\\'log\\')\\nplt.yscale(\\'log\\')\\nplt.xlabel(\\'batch size\\')\\nplt.ylabel(\\'variance\\')\\nlgd = plt.legend(bbox_to_anchor=(0., 1.12, 1., 1.12), loc=3,\\n           ncol=3, mode=\"expand\", borderaxespad=0.)\\nplt.title(\"Variance Estimation\")\\n# plt.savefig(\\'BBbvariance.png\\', bbox_extra_artists=(lgd,), bbox_inches=\\'tight\\')\\n# plt.legend(bbox_to_anchor=(1.05, 1), loc=2, borderaxespad=0.)\\nplt.show()'"
      ]
     },
     "execution_count": 1,
     "metadata": {},
     "output_type": "execute_result"
    }
   ],
   "source": [
    "mini_batch = [128,256,512,1024,2048,4096]\n",
    "\n",
    "non_flip_mean = [[], [], [], [], [], [], []]\n",
    "non_flip_CI_low = [[], [], [], [], [], [], []]\n",
    "non_flip_CI_high = [[], [], [], [], [], [], []]\n",
    "\n",
    "flip_mean = [[], [], [], [], [], [], []]\n",
    "flip_CI_low = [[], [], [], [], [], [], []]\n",
    "flip_CI_high = [[], [], [], [], [], [], []]\n",
    "\n",
    "t_49 = 1.684\n",
    "t_10 = 1.812\n",
    "\n",
    "for i in range(7):  # i = 0, 1, 2, 3, 4, 5, 6\n",
    "    for (Fg_var, NFg_var) in CI_list:\n",
    "        flip_mean[i].append(Fg_var[i].mean())\n",
    "        flip_CI_low[i].append(Fg_var[i].mean() - np.std(Fg_var[i], ddof=1) * t_10/np.sqrt(10))  # Critical: what is t_49? and we don't have 50 samples...\n",
    "        flip_CI_high[i].append(Fg_var[i].mean() + np.std(Fg_var[i], ddof=1) * t_10/np.sqrt(10))\n",
    "\n",
    "        non_flip_mean[i].append(NFg_var[i].mean())\n",
    "        non_flip_CI_low[i].append(NFg_var[i].mean() - np.std(NFg_var[i], ddof=1) * t_10/np.sqrt(10))\n",
    "        non_flip_CI_high[i].append(NFg_var[i].mean() + np.std(NFg_var[i], ddof=1) * t_10/np.sqrt(10))\n",
    "\n",
    "F_errorbars = [[], [], [], [], [], [], []]\n",
    "NF_errorbars = [[], [], [], [], [], [], []]\n",
    "\n",
    "for i in range(7):\n",
    "    F_errorbars[i] = [np.array(flip_mean[i]) - np.array(flip_CI_low[i]), np.array(flip_CI_high[i]) - np.array(flip_mean[i])]\n",
    "    NF_errorbars[i] = [np.array(non_flip_mean[i]) - np.array(non_flip_CI_low[i]), np.array(non_flip_CI_high[i]) - np.array(non_flip_mean[i])]\n",
    "    \n",
    "flip_labels = ['W1-Flip', 'W2-Flip', 'W3-Flip', 'W4-Flip', 'W5-Flip', 'W6-Flip', 'W7-Flip']\n",
    "nonflip_labels = ['W1_NoFlip', 'W2-NoFlip', 'W3-NoFlip', 'W4-NoFlip', 'W5-NoFlip', 'W6-NoFlip', 'W7-NoFlip']\n",
    "\n",
    "colors = ['b', 'r', 'y', 'g', 'c', 'm', 'k']\n",
    "\n",
    "for i in range(7):\n",
    "    plt.errorbar(mini_batch, flip_mean[i], yerr=F_errorbars[i], label=flip_labels[i], color=colors[i])\n",
    "    plt.errorbar(mini_batch, non_flip_mean[i], yerr=NF_errorbars[i], label=nonflip_labels[i], color=colors[i], linestyle=':')\n",
    "\n",
    "plt.xscale('log')\n",
    "plt.yscale('log')\n",
    "plt.xlabel('batch size')\n",
    "plt.ylabel('variance')\n",
    "lgd = plt.legend(bbox_to_anchor=(0., 1.12, 1., 1.12), loc=3,\n",
    "           ncol=3, mode=\"expand\", borderaxespad=0.)\n",
    "plt.title(\"Variance Estimation\")\n",
    "# plt.savefig('BBbvariance.png', bbox_extra_artists=(lgd,), bbox_inches='tight')\n",
    "# plt.legend(bbox_to_anchor=(1.05, 1), loc=2, borderaxespad=0.)\n",
    "plt.show()"
   ]
  },
  {
   "cell_type": "code",
   "execution_count": null,
   "metadata": {
    "collapsed": true
   },
   "outputs": [],
   "source": []
  },
  {
   "cell_type": "code",
   "execution_count": null,
   "metadata": {},
   "outputs": [],
   "source": []
  },
  {
   "cell_type": "code",
   "execution_count": null,
   "metadata": {},
   "outputs": [],
   "source": []
  },
  {
   "cell_type": "code",
   "execution_count": null,
   "metadata": {},
   "outputs": [],
   "source": []
  },
  {
   "cell_type": "code",
   "execution_count": null,
   "metadata": {},
   "outputs": [],
   "source": []
  },
  {
   "cell_type": "code",
   "execution_count": null,
   "metadata": {},
   "outputs": [],
   "source": []
  },
  {
   "cell_type": "code",
   "execution_count": null,
   "metadata": {},
   "outputs": [],
   "source": []
  },
  {
   "cell_type": "code",
   "execution_count": null,
   "metadata": {},
   "outputs": [],
   "source": []
  },
  {
   "cell_type": "code",
   "execution_count": null,
   "metadata": {},
   "outputs": [],
   "source": []
  },
  {
   "cell_type": "code",
   "execution_count": null,
   "metadata": {},
   "outputs": [],
   "source": []
  },
  {
   "cell_type": "code",
   "execution_count": null,
   "metadata": {},
   "outputs": [],
   "source": []
  },
  {
   "cell_type": "code",
   "execution_count": null,
   "metadata": {},
   "outputs": [],
   "source": []
  },
  {
   "cell_type": "code",
   "execution_count": null,
   "metadata": {},
   "outputs": [],
   "source": []
  },
  {
   "cell_type": "code",
   "execution_count": null,
   "metadata": {},
   "outputs": [],
   "source": []
  },
  {
   "cell_type": "code",
   "execution_count": null,
   "metadata": {},
   "outputs": [],
   "source": []
  },
  {
   "cell_type": "code",
   "execution_count": null,
   "metadata": {},
   "outputs": [],
   "source": []
  },
  {
   "cell_type": "code",
   "execution_count": null,
   "metadata": {},
   "outputs": [],
   "source": []
  },
  {
   "cell_type": "code",
   "execution_count": null,
   "metadata": {},
   "outputs": [],
   "source": []
  },
  {
   "cell_type": "code",
   "execution_count": null,
   "metadata": {},
   "outputs": [],
   "source": []
  },
  {
   "cell_type": "code",
   "execution_count": null,
   "metadata": {},
   "outputs": [],
   "source": []
  },
  {
   "cell_type": "code",
   "execution_count": null,
   "metadata": {},
   "outputs": [],
   "source": []
  },
  {
   "cell_type": "code",
   "execution_count": null,
   "metadata": {},
   "outputs": [],
   "source": []
  },
  {
   "cell_type": "code",
   "execution_count": null,
   "metadata": {},
   "outputs": [],
   "source": []
  },
  {
   "cell_type": "code",
   "execution_count": null,
   "metadata": {},
   "outputs": [],
   "source": []
  },
  {
   "cell_type": "code",
   "execution_count": null,
   "metadata": {},
   "outputs": [],
   "source": []
  },
  {
   "cell_type": "code",
   "execution_count": null,
   "metadata": {},
   "outputs": [],
   "source": []
  },
  {
   "cell_type": "code",
   "execution_count": null,
   "metadata": {},
   "outputs": [],
   "source": []
  },
  {
   "cell_type": "code",
   "execution_count": null,
   "metadata": {},
   "outputs": [],
   "source": []
  },
  {
   "cell_type": "code",
   "execution_count": null,
   "metadata": {},
   "outputs": [],
   "source": []
  },
  {
   "cell_type": "code",
   "execution_count": null,
   "metadata": {},
   "outputs": [],
   "source": []
  },
  {
   "cell_type": "code",
   "execution_count": null,
   "metadata": {},
   "outputs": [],
   "source": []
  },
  {
   "cell_type": "code",
   "execution_count": null,
   "metadata": {},
   "outputs": [],
   "source": []
  },
  {
   "cell_type": "code",
   "execution_count": null,
   "metadata": {},
   "outputs": [],
   "source": []
  },
  {
   "cell_type": "code",
   "execution_count": null,
   "metadata": {},
   "outputs": [],
   "source": []
  },
  {
   "cell_type": "code",
   "execution_count": null,
   "metadata": {},
   "outputs": [],
   "source": []
  },
  {
   "cell_type": "code",
   "execution_count": null,
   "metadata": {},
   "outputs": [],
   "source": []
  },
  {
   "cell_type": "code",
   "execution_count": null,
   "metadata": {},
   "outputs": [],
   "source": []
  },
  {
   "cell_type": "code",
   "execution_count": null,
   "metadata": {},
   "outputs": [],
   "source": []
  },
  {
   "cell_type": "code",
   "execution_count": null,
   "metadata": {},
   "outputs": [],
   "source": []
  },
  {
   "cell_type": "code",
   "execution_count": null,
   "metadata": {},
   "outputs": [],
   "source": []
  },
  {
   "cell_type": "code",
   "execution_count": null,
   "metadata": {},
   "outputs": [],
   "source": []
  },
  {
   "cell_type": "code",
   "execution_count": null,
   "metadata": {
    "collapsed": true
   },
   "outputs": [],
   "source": []
  }
 ],
 "metadata": {
  "kernelspec": {
   "display_name": "Python 2",
   "language": "python",
   "name": "python2"
  },
  "language_info": {
   "codemirror_mode": {
    "name": "ipython",
    "version": 2
   },
   "file_extension": ".py",
   "mimetype": "text/x-python",
   "name": "python",
   "nbconvert_exporter": "python",
   "pygments_lexer": "ipython2",
   "version": "2.7.15"
  }
 },
 "nbformat": 4,
 "nbformat_minor": 2
}
